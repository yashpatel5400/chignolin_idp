{
 "cells": [
  {
   "cell_type": "code",
   "execution_count": 46,
   "metadata": {},
   "outputs": [],
   "source": [
    "import openmm\n",
    "import openmm.app as app\n",
    "import openmm.unit as u\n",
    "\n",
    "pdb_fn = \"/home/yppatel/misc/chignolin_idp/combined.pdb\"\n",
    "pdb = app.PDBFile(pdb_fn)\n",
    "forcefield = app.ForceField(\"/home/yppatel/misc/chignolin_idp/amber14/protein.ff14SBonlysc.xml\", \"implicit/gbn2.xml\")\n",
    "\n",
    "system = forcefield.createSystem(pdb.topology, nonbondedMethod = app.forcefield.NoCutoff, constraints = app.forcefield.HBonds)\n",
    "integrator = openmm.VerletIntegrator(0.002 * u.picoseconds)\n",
    "\n",
    "platform_name = \"CUDA\"\n",
    "\n",
    "platform = openmm.Platform.getPlatformByName(platform_name)\n",
    "if platform_name == \"CUDA\":\n",
    "    prop = dict(CudaPrecision=\"mixed\", DeviceIndex=f\"0\")\n",
    "    simulator = app.Simulation(pdb.topology, system, integrator, platform, prop)\n",
    "else:\n",
    "    simulator = app.Simulation(pdb.topology, system, integrator, platform)"
   ]
  },
  {
   "cell_type": "code",
   "execution_count": 47,
   "metadata": {},
   "outputs": [],
   "source": [
    "num_replicates = 2\n",
    "atoms_per_replicate = system.getNumParticles() // num_replicates\n",
    "\n",
    "for atom_idx1 in range(atoms_per_replicate):\n",
    "    for replicate in range(1, num_replicates):\n",
    "        for atom_idx2 in range(atoms_per_replicate):\n",
    "            replicate_idx2 = replicate * atoms_per_replicate + atom_idx2\n",
    "            system.getForces()[2].addException(atom_idx1, replicate_idx2, 0, 0, 0)"
   ]
  },
  {
   "cell_type": "code",
   "execution_count": 59,
   "metadata": {},
   "outputs": [
    {
     "data": {
      "text/plain": [
       "<Topology; 2 chains, 20 residues, 276 atoms, 282 bonds>"
      ]
     },
     "execution_count": 59,
     "metadata": {},
     "output_type": "execute_result"
    }
   ],
   "source": [
    "pdb.topology"
   ]
  },
  {
   "cell_type": "code",
   "execution_count": 52,
   "metadata": {},
   "outputs": [],
   "source": [
    "simulator.context.setPositions(pdb.positions)"
   ]
  },
  {
   "cell_type": "code",
   "execution_count": 51,
   "metadata": {},
   "outputs": [
    {
     "name": "stderr",
     "output_type": "stream",
     "text": [
      "Calling single minimize()\n",
      "CUDA test\n",
      "CPU test\n"
     ]
    },
    {
     "ename": "OpenMMException",
     "evalue": "Particle coordinate is NaN.  For more information, see https://github.com/openmm/openmm/wiki/Frequently-Asked-Questions#nan",
     "output_type": "error",
     "traceback": [
      "\u001b[0;31m---------------------------------------------------------------------------\u001b[0m",
      "\u001b[0;31mOpenMMException\u001b[0m                           Traceback (most recent call last)",
      "Cell \u001b[0;32mIn[51], line 1\u001b[0m\n\u001b[0;32m----> 1\u001b[0m openmm\u001b[39m.\u001b[39;49mLocalEnergyMinimizer\u001b[39m.\u001b[39;49mminimize(simulator\u001b[39m.\u001b[39;49mcontext)\n",
      "File \u001b[0;32m~/anaconda3/envs/chig/lib/python3.8/site-packages/openmm/openmm.py:3699\u001b[0m, in \u001b[0;36mLocalEnergyMinimizer.minimize\u001b[0;34m(context, tolerance, maxIterations)\u001b[0m\n\u001b[1;32m   3695\u001b[0m \u001b[39mif\u001b[39;00m unit\u001b[39m.\u001b[39mis_quantity(tolerance):\n\u001b[1;32m   3696\u001b[0m     tolerance \u001b[39m=\u001b[39m tolerance\u001b[39m.\u001b[39mvalue_in_unit(unit\u001b[39m.\u001b[39mkilojoules_per_mole\u001b[39m/\u001b[39munit\u001b[39m.\u001b[39mnanometer)\n\u001b[0;32m-> 3699\u001b[0m \u001b[39mreturn\u001b[39;00m _openmm\u001b[39m.\u001b[39;49mLocalEnergyMinimizer_minimize(context, tolerance, maxIterations)\n",
      "\u001b[0;31mOpenMMException\u001b[0m: Particle coordinate is NaN.  For more information, see https://github.com/openmm/openmm/wiki/Frequently-Asked-Questions#nan"
     ]
    }
   ],
   "source": [
    "openmm.LocalEnergyMinimizer.minimize(simulator.context)"
   ]
  },
  {
   "cell_type": "code",
   "execution_count": 50,
   "metadata": {},
   "outputs": [
    {
     "name": "stderr",
     "output_type": "stream",
     "text": [
      "CUDA test\n"
     ]
    },
    {
     "data": {
      "text/plain": [
       "nan"
      ]
     },
     "execution_count": 50,
     "metadata": {},
     "output_type": "execute_result"
    }
   ],
   "source": [
    "energy_kj = simulator.context.getState(getEnergy=True).getPotentialEnergy()\n",
    "energy_kcal = energy_kj.in_units_of(u.kilocalories_per_mole) # match RDKit/MMFF convention\n",
    "energy_kcal._value"
   ]
  },
  {
   "cell_type": "code",
   "execution_count": null,
   "metadata": {},
   "outputs": [],
   "source": []
  }
 ],
 "metadata": {
  "kernelspec": {
   "display_name": "chig",
   "language": "python",
   "name": "python3"
  },
  "language_info": {
   "codemirror_mode": {
    "name": "ipython",
    "version": 3
   },
   "file_extension": ".py",
   "mimetype": "text/x-python",
   "name": "python",
   "nbconvert_exporter": "python",
   "pygments_lexer": "ipython3",
   "version": "3.8.16"
  },
  "orig_nbformat": 4,
  "vscode": {
   "interpreter": {
    "hash": "025fdf49e09ee838b0c05e971129fbc14df70fae1b22b06a04398c8d66c2f675"
   }
  }
 },
 "nbformat": 4,
 "nbformat_minor": 2
}
