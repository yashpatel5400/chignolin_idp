{
 "cells": [
  {
   "cell_type": "code",
   "execution_count": 1,
   "metadata": {},
   "outputs": [],
   "source": [
    "import openmm\n",
    "import openmm.app as app\n",
    "import openmm.unit as u"
   ]
  },
  {
   "cell_type": "code",
   "execution_count": 14,
   "metadata": {},
   "outputs": [],
   "source": [
    "pdb_fn = \"../disordered_chignolin/GYDPETGTWG.pdb\"\n",
    "pdb = app.PDBFile(pdb_fn)\n",
    "forcefield = app.ForceField(\"../amber14/protein.ff14SBonlysc.xml\", \"implicit/gbn2.xml\")\n",
    "system = forcefield.createSystem(pdb.topology, nonbondedMethod = app.forcefield.NoCutoff, constraints = app.forcefield.HBonds)\n",
    "integrator = openmm.VerletIntegrator(0.002 * u.picoseconds)"
   ]
  },
  {
   "cell_type": "code",
   "execution_count": 15,
   "metadata": {},
   "outputs": [],
   "source": [
    "platform = openmm.Platform.getPlatformByName(\"CUDA\")\n",
    "prop = dict(CudaPrecision=\"mixed\", DeviceIndex=\"0\")\n",
    "simulation = app.Simulation(pdb.topology, system, integrator, platform, prop)\n",
    "simulation.context.setPositions(pdb.positions)\n",
    "simulation.minimizeEnergy()"
   ]
  },
  {
   "cell_type": "code",
   "execution_count": 16,
   "metadata": {},
   "outputs": [],
   "source": [
    "simulation.reporters.append(app.PDBReporter('output.pdb', 1000))\n",
    "simulation.step(10000)"
   ]
  },
  {
   "cell_type": "code",
   "execution_count": null,
   "metadata": {},
   "outputs": [],
   "source": []
  }
 ],
 "metadata": {
  "kernelspec": {
   "display_name": "chig",
   "language": "python",
   "name": "python3"
  },
  "language_info": {
   "codemirror_mode": {
    "name": "ipython",
    "version": 3
   },
   "file_extension": ".py",
   "mimetype": "text/x-python",
   "name": "python",
   "nbconvert_exporter": "python",
   "pygments_lexer": "ipython3",
   "version": "3.8.16"
  },
  "vscode": {
   "interpreter": {
    "hash": "025fdf49e09ee838b0c05e971129fbc14df70fae1b22b06a04398c8d66c2f675"
   }
  }
 },
 "nbformat": 4,
 "nbformat_minor": 4
}
