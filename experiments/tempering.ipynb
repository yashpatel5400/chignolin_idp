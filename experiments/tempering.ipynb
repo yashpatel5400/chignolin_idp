{
 "cells": [
  {
   "cell_type": "code",
   "execution_count": 1,
   "metadata": {},
   "outputs": [],
   "source": [
    "import openmm\n",
    "import openmm.app as app\n",
    "import openmm.unit as u"
   ]
  },
  {
   "cell_type": "code",
   "execution_count": 2,
   "metadata": {},
   "outputs": [],
   "source": [
    "pdb_fn = \"../disordered_chignolin/GYDPETGTWG.pdb\"\n",
    "pdb = app.PDBFile(pdb_fn)\n",
    "forcefield = app.ForceField(\"../amber14/protein.ff14SBonlysc.xml\", \"implicit/gbn2.xml\")\n",
    "system = forcefield.createSystem(pdb.topology, nonbondedMethod = app.forcefield.NoCutoff, constraints = app.forcefield.HBonds)\n",
    "integrator = openmm.VerletIntegrator(0.002 * u.picoseconds)"
   ]
  },
  {
   "cell_type": "code",
   "execution_count": 3,
   "metadata": {},
   "outputs": [],
   "source": [
    "platform = openmm.Platform.getPlatformByName(\"CUDA\")\n",
    "prop = dict(CudaPrecision=\"mixed\", DeviceIndex=\"0\")\n",
    "simulation = app.Simulation(pdb.topology, system, integrator, platform, prop)\n",
    "simulation.context.setPositions(pdb.positions)\n",
    "simulation.minimizeEnergy()"
   ]
  },
  {
   "cell_type": "code",
   "execution_count": 4,
   "metadata": {},
   "outputs": [],
   "source": [
    "simulation.reporters.append(app.PDBReporter('output.pdb', 1000))\n",
    "simulation.step(1_000_000)"
   ]
  },
  {
   "cell_type": "code",
   "execution_count": 5,
   "metadata": {},
   "outputs": [
    {
     "data": {
      "text/plain": [
       "Quantity(value=-375.238465462441, unit=kilocalorie/mole)"
      ]
     },
     "execution_count": 5,
     "metadata": {},
     "output_type": "execute_result"
    }
   ],
   "source": [
    "simulation.context.getState(getEnergy=True).getPotentialEnergy().in_units_of(u.kilocalories_per_mole)"
   ]
  },
  {
   "cell_type": "code",
   "execution_count": 6,
   "metadata": {},
   "outputs": [
    {
     "ename": "FileNotFoundError",
     "evalue": "[Errno 2] No such file or directory: './home/yppatel/misc/clean_idp_rl/chignolin_confs2/1uao_autopsf_0.pdb'",
     "output_type": "error",
     "traceback": [
      "\u001b[0;31m---------------------------------------------------------------------------\u001b[0m",
      "\u001b[0;31mFileNotFoundError\u001b[0m                         Traceback (most recent call last)",
      "Cell \u001b[0;32mIn[6], line 2\u001b[0m\n\u001b[1;32m      1\u001b[0m pdb_true_fn \u001b[39m=\u001b[39m \u001b[39m\"\u001b[39m\u001b[39m./home/yppatel/misc/clean_idp_rl/chignolin_confs2/1uao_autopsf_0.pdb\u001b[39m\u001b[39m\"\u001b[39m\n\u001b[0;32m----> 2\u001b[0m pdb_true \u001b[39m=\u001b[39m app\u001b[39m.\u001b[39;49mPDBFile(pdb_true_fn)\n\u001b[1;32m      3\u001b[0m simulation\u001b[39m.\u001b[39mcontext\u001b[39m.\u001b[39msetPositions(pdb\u001b[39m.\u001b[39mpositions)\n",
      "File \u001b[0;32m~/anaconda3/envs/chig/lib/python3.8/site-packages/openmm/app/pdbfile.py:93\u001b[0m, in \u001b[0;36mPDBFile.__init__\u001b[0;34m(self, file, extraParticleIdentifier)\u001b[0m\n\u001b[1;32m     91\u001b[0m own_handle \u001b[39m=\u001b[39m \u001b[39mFalse\u001b[39;00m\n\u001b[1;32m     92\u001b[0m \u001b[39mif\u001b[39;00m \u001b[39misinstance\u001b[39m(file, \u001b[39mstr\u001b[39m):\n\u001b[0;32m---> 93\u001b[0m     inputfile \u001b[39m=\u001b[39m \u001b[39mopen\u001b[39;49m(file)\n\u001b[1;32m     94\u001b[0m     own_handle \u001b[39m=\u001b[39m \u001b[39mTrue\u001b[39;00m\n\u001b[1;32m     95\u001b[0m pdb \u001b[39m=\u001b[39m PdbStructure(inputfile, load_all_models\u001b[39m=\u001b[39m\u001b[39mTrue\u001b[39;00m, extraParticleIdentifier\u001b[39m=\u001b[39mextraParticleIdentifier)\n",
      "\u001b[0;31mFileNotFoundError\u001b[0m: [Errno 2] No such file or directory: './home/yppatel/misc/clean_idp_rl/chignolin_confs2/1uao_autopsf_0.pdb'"
     ]
    }
   ],
   "source": [
    "pdb_true_fn = \"/home/yppatel/misc/clean_idp_rl/chignolin_confs2/1uao_autopsf_0.pdb\"\n",
    "pdb_true = app.PDBFile(pdb_true_fn)\n",
    "simulation.context.setPositions(pdb_true.positions)\n",
    "simulation.minimizeEnergy()\n",
    "simulation.context.getState(getEnergy=True).getPotentialEnergy().in_units_of(u.kilocalories_per_mole)\n"
   ]
  },
  {
   "cell_type": "code",
   "execution_count": null,
   "metadata": {},
   "outputs": [],
   "source": []
  }
 ],
 "metadata": {
  "kernelspec": {
   "display_name": "chig",
   "language": "python",
   "name": "python3"
  },
  "language_info": {
   "codemirror_mode": {
    "name": "ipython",
    "version": 3
   },
   "file_extension": ".py",
   "mimetype": "text/x-python",
   "name": "python",
   "nbconvert_exporter": "python",
   "pygments_lexer": "ipython3",
   "version": "3.8.16"
  },
  "vscode": {
   "interpreter": {
    "hash": "025fdf49e09ee838b0c05e971129fbc14df70fae1b22b06a04398c8d66c2f675"
   }
  }
 },
 "nbformat": 4,
 "nbformat_minor": 4
}
