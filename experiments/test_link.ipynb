{
 "cells": [
  {
   "cell_type": "code",
   "execution_count": 1,
   "metadata": {},
   "outputs": [
    {
     "ename": "OpenMMException",
     "evalue": "HAHA, FOUND IT setPositions() on a Context with the wrong number of positions",
     "output_type": "error",
     "traceback": [
      "\u001b[0;31m---------------------------------------------------------------------------\u001b[0m",
      "\u001b[0;31mOpenMMException\u001b[0m                           Traceback (most recent call last)",
      "Cell \u001b[0;32mIn[1], line 12\u001b[0m\n\u001b[1;32m     10\u001b[0m integrator \u001b[39m=\u001b[39m openmm\u001b[39m.\u001b[39mVerletIntegrator(\u001b[39m0.002\u001b[39m \u001b[39m*\u001b[39m u\u001b[39m.\u001b[39mpicoseconds)\n\u001b[1;32m     11\u001b[0m simulator \u001b[39m=\u001b[39m app\u001b[39m.\u001b[39mSimulation(pdb\u001b[39m.\u001b[39mtopology, system, integrator)\n\u001b[0;32m---> 12\u001b[0m simulator\u001b[39m.\u001b[39;49mcontext\u001b[39m.\u001b[39;49msetPositions([])\n",
      "File \u001b[0;32m~/anaconda3/envs/chig/lib/python3.8/site-packages/openmm/openmm.py:13148\u001b[0m, in \u001b[0;36mContext.setPositions\u001b[0;34m(self, positions)\u001b[0m\n\u001b[1;32m  13144\u001b[0m \u001b[39mif\u001b[39;00m unit\u001b[39m.\u001b[39mis_quantity(positions):\n\u001b[1;32m  13145\u001b[0m     positions \u001b[39m=\u001b[39m positions\u001b[39m.\u001b[39mvalue_in_unit(unit\u001b[39m.\u001b[39mnanometer)\n\u001b[0;32m> 13148\u001b[0m \u001b[39mreturn\u001b[39;00m _openmm\u001b[39m.\u001b[39;49mContext_setPositions(\u001b[39mself\u001b[39;49m, positions)\n",
      "\u001b[0;31mOpenMMException\u001b[0m: HAHA, FOUND IT setPositions() on a Context with the wrong number of positions"
     ]
    }
   ],
   "source": [
    "import openmm\n",
    "import openmm.app as app\n",
    "import openmm.unit as u\n",
    "\n",
    "pdb_fn = \"/home/yppatel/misc/chignolin_idp/disordered_chignolin_eval/GYDPETGTWG.pdb\"\n",
    "pdb = app.PDBFile(pdb_fn)\n",
    "forcefield = app.ForceField(\"/home/yppatel/misc/chignolin_idp/amber14/protein.ff14SBonlysc.xml\", \"implicit/gbn2.xml\")\n",
    "\n",
    "system = forcefield.createSystem(pdb.topology, nonbondedMethod = app.forcefield.NoCutoff, constraints = app.forcefield.HBonds)\n",
    "integrator = openmm.VerletIntegrator(0.002 * u.picoseconds)\n",
    "simulator = app.Simulation(pdb.topology, system, integrator)\n",
    "simulator.context.setPositions([])"
   ]
  },
  {
   "cell_type": "code",
   "execution_count": null,
   "metadata": {},
   "outputs": [],
   "source": []
  }
 ],
 "metadata": {
  "kernelspec": {
   "display_name": "chig",
   "language": "python",
   "name": "python3"
  },
  "language_info": {
   "codemirror_mode": {
    "name": "ipython",
    "version": 3
   },
   "file_extension": ".py",
   "mimetype": "text/x-python",
   "name": "python",
   "nbconvert_exporter": "python",
   "pygments_lexer": "ipython3",
   "version": "3.8.16"
  },
  "orig_nbformat": 4,
  "vscode": {
   "interpreter": {
    "hash": "025fdf49e09ee838b0c05e971129fbc14df70fae1b22b06a04398c8d66c2f675"
   }
  }
 },
 "nbformat": 4,
 "nbformat_minor": 2
}
