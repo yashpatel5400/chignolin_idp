{
 "cells": [
  {
   "cell_type": "code",
   "execution_count": 1,
   "metadata": {},
   "outputs": [],
   "source": [
    "import openmm\n",
    "import openmm.app as app\n",
    "import openmm.unit as u\n",
    "\n",
    "pdb_fn = \"/home/yppatel/misc/chignolin_idp/disordered_chignolin_eval/GYDPETGTWG.pdb\"\n",
    "pdb = app.PDBFile(pdb_fn)\n",
    "forcefield = app.ForceField(\"/home/yppatel/misc/chignolin_idp/amber14/protein.ff14SBonlysc.xml\", \"implicit/gbn2.xml\")\n",
    "\n",
    "system = forcefield.createSystem(pdb.topology, nonbondedMethod = app.forcefield.NoCutoff, constraints = app.forcefield.HBonds)\n",
    "integrator = openmm.VerletIntegrator(0.002 * u.picoseconds)\n",
    "simulator = app.Simulation(pdb.topology, system, integrator)"
   ]
  },
  {
   "cell_type": "code",
   "execution_count": 2,
   "metadata": {},
   "outputs": [
    {
     "name": "stderr",
     "output_type": "stream",
     "text": [
      "BLh -- this is setPos call\n"
     ]
    },
    {
     "ename": "OpenMMException",
     "evalue": "TEST, FOUND IT setPositions() on a Context with the wrong number of positions",
     "output_type": "error",
     "traceback": [
      "\u001b[0;31m---------------------------------------------------------------------------\u001b[0m",
      "\u001b[0;31mOpenMMException\u001b[0m                           Traceback (most recent call last)",
      "Cell \u001b[0;32mIn[2], line 1\u001b[0m\n\u001b[0;32m----> 1\u001b[0m simulator\u001b[39m.\u001b[39;49mcontext\u001b[39m.\u001b[39;49msetPositions([])\n",
      "File \u001b[0;32m~/anaconda3/envs/chig/lib/python3.8/site-packages/openmm/openmm.py:13148\u001b[0m, in \u001b[0;36mContext.setPositions\u001b[0;34m(self, positions)\u001b[0m\n\u001b[1;32m  13144\u001b[0m \u001b[39mif\u001b[39;00m unit\u001b[39m.\u001b[39mis_quantity(positions):\n\u001b[1;32m  13145\u001b[0m     positions \u001b[39m=\u001b[39m positions\u001b[39m.\u001b[39mvalue_in_unit(unit\u001b[39m.\u001b[39mnanometer)\n\u001b[0;32m> 13148\u001b[0m \u001b[39mreturn\u001b[39;00m _openmm\u001b[39m.\u001b[39;49mContext_setPositions(\u001b[39mself\u001b[39;49m, positions)\n",
      "\u001b[0;31mOpenMMException\u001b[0m: TEST, FOUND IT setPositions() on a Context with the wrong number of positions"
     ]
    }
   ],
   "source": [
    "simulator.context.setPositions(pdb.positions)"
   ]
  },
  {
   "cell_type": "code",
   "execution_count": 3,
   "metadata": {},
   "outputs": [
    {
     "ename": "NameError",
     "evalue": "name 'simulation' is not defined",
     "output_type": "error",
     "traceback": [
      "\u001b[0;31m---------------------------------------------------------------------------\u001b[0m",
      "\u001b[0;31mNameError\u001b[0m                                 Traceback (most recent call last)",
      "Cell \u001b[0;32mIn[3], line 1\u001b[0m\n\u001b[0;32m----> 1\u001b[0m simulation\u001b[39m.\u001b[39mminimizeEnergy()\n",
      "\u001b[0;31mNameError\u001b[0m: name 'simulation' is not defined"
     ]
    }
   ],
   "source": [
    "simulator.minimizeEnergy()"
   ]
  },
  {
   "cell_type": "code",
   "execution_count": null,
   "metadata": {},
   "outputs": [],
   "source": []
  }
 ],
 "metadata": {
  "kernelspec": {
   "display_name": "chig",
   "language": "python",
   "name": "python3"
  },
  "language_info": {
   "codemirror_mode": {
    "name": "ipython",
    "version": 3
   },
   "file_extension": ".py",
   "mimetype": "text/x-python",
   "name": "python",
   "nbconvert_exporter": "python",
   "pygments_lexer": "ipython3",
   "version": "3.8.16"
  },
  "orig_nbformat": 4,
  "vscode": {
   "interpreter": {
    "hash": "025fdf49e09ee838b0c05e971129fbc14df70fae1b22b06a04398c8d66c2f675"
   }
  }
 },
 "nbformat": 4,
 "nbformat_minor": 2
}
